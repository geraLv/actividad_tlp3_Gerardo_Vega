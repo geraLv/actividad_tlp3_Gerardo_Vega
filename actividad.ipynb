{
 "cells": [
  {
   "cell_type": "markdown",
   "id": "498731c6",
   "metadata": {},
   "source": [
    "# Actividad - Trabajando con Series de Pandas.\n",
    "## Criterios de evaluación.\n",
    "\n",
    "* Se deben utilizar nombres de variables descriptivos y claros (Utilizar la nomeclatura correspondiente para los nombres de variables).\n",
    "* Comentarios claros y concisos que expliquen el propósito de cada sección del código.\n",
    "* Utilizar mensajes de commit **descriptivos**. (Puedes utilizar la extension CONVENTIONAL COMMIT de VS-CODE). \n",
    "* Entrega en tiempo y forma.\n",
    "* Todo el código desarrollado debe ser subido a un repositorio en GitHub (el nombre del repositorio de seguir la siguiente estructura: actividad_tlp3_nombre_apellido).\n",
    "* Para resolver las actividades se debe insertar casillas de codigo entre cada actividad del cuaderno de Jupyter\n",
    "\n",
    "### ¡Importante!\n",
    "**El incumplimiento de los criterios de evaluación restará puntos en la nota final del práctico!**"
   ]
  },
  {
   "cell_type": "markdown",
   "id": "b361a7b6",
   "metadata": {},
   "source": [
    "### **Actividad 1:** \n",
    "\n",
    "Crear Series desde diferentes estructuras.\n",
    "* Crea una Series con los números del 1 al 5\n",
    "* Crea una Series a partir de un diccionario con nombres de países como claves y sus capitales como valores."
   ]
  },
  {
   "cell_type": "code",
   "execution_count": null,
   "id": "26009294",
   "metadata": {},
   "outputs": [
    {
     "data": {
      "text/plain": [
       "España             Madrid\n",
       "Argentina    Buenos Aires\n",
       "Chile            Santiago\n",
       "Paraguay         Asuncion\n",
       "dtype: object"
      ]
     },
     "execution_count": 6,
     "metadata": {},
     "output_type": "execute_result"
    }
   ],
   "source": [
    "# todo:\n",
    "from pandas import Series\n",
    "#Crea una serie con valore del 1 al 5\n",
    "nueva_serie = Series([1,2,3,4,5])\n",
    "\n",
    "#Crea una serie con nombres de paises como clave y sus capitales como valores\n",
    "serie_paises = Series({\"España\": \"Madrid\", \"Argentina\": \"Buenos Aires\", \"Chile\": \"Santiago\",\"Paraguay\":\"Asuncion\"})\n",
    "serie_paises"
   ]
  },
  {
   "cell_type": "markdown",
   "id": "0c239195",
   "metadata": {},
   "source": [
    "### **Actividad 2:** \n",
    "Acceso y selección de elementos.\n",
    "* Usa una Series con tareas (que haceres cotidianos) de una semana\n",
    "* Accede a diferentes elementos a elección.\n",
    "* Cambia los valores de los dias pares.\n"
   ]
  },
  {
   "cell_type": "code",
   "execution_count": null,
   "id": "3611d25a",
   "metadata": {},
   "outputs": [
    {
     "name": "stdout",
     "output_type": "stream",
     "text": [
      "Limpiar el piso\n",
      "Hacer la compra\n",
      "Cocinar\n",
      "Tareas por defecto: Lunes                  Barrer\n",
      "Martes        Limpiar el piso\n",
      "Miercoles    Ordenar la piesa\n",
      "Jueves        Hacer la compra\n",
      "Viernes         Lavar la ropa\n",
      "Sabado                Cocinar\n",
      "Domingo             Descansar\n",
      "dtype: object\n",
      "Serie de tareas con los valores pares cambiados Lunes            Nueva tarea\n",
      "Martes       Limpiar el piso\n",
      "Miercoles        Nueva tarea\n",
      "Jueves       Hacer la compra\n",
      "Viernes          Nueva tarea\n",
      "Sabado               Cocinar\n",
      "Domingo          Nueva tarea\n",
      "dtype: object\n"
     ]
    },
    {
     "name": "stderr",
     "output_type": "stream",
     "text": [
      "C:\\Users\\IPF-2025\\AppData\\Local\\Temp\\ipykernel_12220\\2187288883.py:6: FutureWarning: Series.__getitem__ treating keys as positions is deprecated. In a future version, integer keys will always be treated as labels (consistent with DataFrame behavior). To access a value by position, use `ser.iloc[pos]`\n",
      "  print(serie_tareas_diarias[1])\n",
      "C:\\Users\\IPF-2025\\AppData\\Local\\Temp\\ipykernel_12220\\2187288883.py:7: FutureWarning: Series.__getitem__ treating keys as positions is deprecated. In a future version, integer keys will always be treated as labels (consistent with DataFrame behavior). To access a value by position, use `ser.iloc[pos]`\n",
      "  print(serie_tareas_diarias[3])\n",
      "C:\\Users\\IPF-2025\\AppData\\Local\\Temp\\ipykernel_12220\\2187288883.py:8: FutureWarning: Series.__getitem__ treating keys as positions is deprecated. In a future version, integer keys will always be treated as labels (consistent with DataFrame behavior). To access a value by position, use `ser.iloc[pos]`\n",
      "  print(serie_tareas_diarias[5])\n"
     ]
    }
   ],
   "source": [
    "\n",
    "# todo:\n",
    "#Crea una serie con tareas cotidianas\n",
    "serie_tareas_diarias = Series({\"Lunes\":\"Barrer\",\"Martes\":\"Limpiar el piso\",\"Miercoles\":\"Ordenar la piesa\",\"Jueves\":\"Hacer la compra\",\"Viernes\":\"Lavar la ropa\",\"Sabado\":\"Cocinar\",\"Domingo\":\"Descansar\"})\n",
    "\n",
    "#Accede a diferentes elementos a elección\n",
    "print(serie_tareas_diarias[1])\n",
    "print(serie_tareas_diarias[3])\n",
    "print(serie_tareas_diarias[5])\n",
    "\n",
    "print(f\"\"\"Tareas por defecto: {serie_tareas_diarias}\"\"\")\n",
    "\n",
    "#Accede a los indices pares y modifica sus valores\n",
    "serie_tareas_diarias[::2] = \"Nueva tarea\"\n",
    "print(f\"\"\"Serie de tareas con los valores pares cambiados {serie_tareas_diarias}\"\"\")\n",
    "\n"
   ]
  },
  {
   "cell_type": "markdown",
   "id": "70a24b97",
   "metadata": {},
   "source": [
    "### **Actividad 3:**\n",
    "Operaciones aritméticas. \n",
    "* Realiza las operaciones basicas con 2 series cuales quieran.\n",
    "* Eleva los valores de la primer serie a 3 potencias difetentes."
   ]
  },
  {
   "cell_type": "code",
   "execution_count": null,
   "id": "a9c8ebc7",
   "metadata": {},
   "outputs": [],
   "source": [
    "\n",
    "# todo:"
   ]
  },
  {
   "cell_type": "markdown",
   "id": "b8dac397",
   "metadata": {},
   "source": [
    "### **Actividad 4:** \n",
    "Filtrado con condiciones.\n",
    "* Crea una Series de edades de 10 personas.\n",
    "* Muestra solo a los mayores de 18.\n",
    "* Reemplaza a los menores por \"Menor de edad\"."
   ]
  },
  {
   "cell_type": "code",
   "execution_count": null,
   "id": "d04fd492",
   "metadata": {},
   "outputs": [],
   "source": [
    "\n",
    "# todo:"
   ]
  },
  {
   "cell_type": "markdown",
   "id": "8889d0f2",
   "metadata": {},
   "source": [
    "### Actividad 5:\n",
    "Estadísticas básicas.\n",
    "\n",
    "* Crea una Series con las notas de 10 estudiantes.\n",
    "* Calcula la media, mediana, desviación estándar y máximo.\n",
    "* Muestra cuántos estudiantes aprobaron si el mínimo para aprobar es 6.\n",
    "* Ordenar las notas de manera ascendente y descendente. "
   ]
  },
  {
   "cell_type": "code",
   "execution_count": null,
   "id": "bc0ec844",
   "metadata": {},
   "outputs": [],
   "source": [
    "\n",
    "# todo:\n"
   ]
  }
 ],
 "metadata": {
  "kernelspec": {
   "display_name": "env",
   "language": "python",
   "name": "python3"
  },
  "language_info": {
   "codemirror_mode": {
    "name": "ipython",
    "version": 3
   },
   "file_extension": ".py",
   "mimetype": "text/x-python",
   "name": "python",
   "nbconvert_exporter": "python",
   "pygments_lexer": "ipython3",
   "version": "3.12.9"
  }
 },
 "nbformat": 4,
 "nbformat_minor": 5
}
