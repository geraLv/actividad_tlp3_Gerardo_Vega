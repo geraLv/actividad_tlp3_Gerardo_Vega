{
 "cells": [
  {
   "cell_type": "markdown",
   "id": "498731c6",
   "metadata": {},
   "source": [
    "# Actividad - Trabajando con Series de Pandas.\n",
    "## Criterios de evaluación.\n",
    "\n",
    "* Se deben utilizar nombres de variables descriptivos y claros (Utilizar la nomeclatura correspondiente para los nombres de variables).\n",
    "* Comentarios claros y concisos que expliquen el propósito de cada sección del código.\n",
    "* Utilizar mensajes de commit **descriptivos**. (Puedes utilizar la extension CONVENTIONAL COMMIT de VS-CODE). \n",
    "* Entrega en tiempo y forma.\n",
    "* Todo el código desarrollado debe ser subido a un repositorio en GitHub (el nombre del repositorio de seguir la siguiente estructura: actividad_tlp3_nombre_apellido).\n",
    "* Para resolver las actividades se debe insertar casillas de codigo entre cada actividad del cuaderno de Jupyter\n",
    "\n",
    "### ¡Importante!\n",
    "**El incumplimiento de los criterios de evaluación restará puntos en la nota final del práctico!**"
   ]
  },
  {
   "cell_type": "markdown",
   "id": "b361a7b6",
   "metadata": {},
   "source": [
    "### **Actividad 1:** \n",
    "\n",
    "Crear Series desde diferentes estructuras.\n",
    "* Crea una Series con los números del 1 al 5\n",
    "* Crea una Series a partir de un diccionario con nombres de países como claves y sus capitales como valores."
   ]
  },
  {
   "cell_type": "code",
   "execution_count": null,
   "id": "26009294",
   "metadata": {},
   "outputs": [
    {
     "data": {
      "text/plain": [
       "España             Madrid\n",
       "Argentina    Buenos Aires\n",
       "Chile            Santiago\n",
       "Paraguay         Asuncion\n",
       "dtype: object"
      ]
     },
     "execution_count": 6,
     "metadata": {},
     "output_type": "execute_result"
    }
   ],
   "source": [
    "# todo:\n",
    "from pandas import Series\n",
    "#Crea una serie con valore del 1 al 5\n",
    "nueva_serie = Series([1,2,3,4,5])\n",
    "\n",
    "#Crea una serie con nombres de paises como clave y sus capitales como valores\n",
    "serie_paises = Series({\"España\": \"Madrid\", \"Argentina\": \"Buenos Aires\", \"Chile\": \"Santiago\",\"Paraguay\":\"Asuncion\"})\n",
    "serie_paises"
   ]
  },
  {
   "cell_type": "markdown",
   "id": "0c239195",
   "metadata": {},
   "source": [
    "### **Actividad 2:** \n",
    "Acceso y selección de elementos.\n",
    "* Usa una Series con tareas (que haceres cotidianos) de una semana\n",
    "* Accede a diferentes elementos a elección.\n",
    "* Cambia los valores de los dias pares.\n"
   ]
  },
  {
   "cell_type": "code",
   "execution_count": null,
   "id": "3611d25a",
   "metadata": {},
   "outputs": [
    {
     "name": "stdout",
     "output_type": "stream",
     "text": [
      "Limpiar el piso\n",
      "Hacer la compra\n",
      "Cocinar\n",
      "Tareas por defecto: Lunes                  Barrer\n",
      "Martes        Limpiar el piso\n",
      "Miercoles    Ordenar la piesa\n",
      "Jueves        Hacer la compra\n",
      "Viernes         Lavar la ropa\n",
      "Sabado                Cocinar\n",
      "Domingo             Descansar\n",
      "dtype: object\n",
      "Serie de tareas con los valores pares cambiados Lunes            Nueva tarea\n",
      "Martes       Limpiar el piso\n",
      "Miercoles        Nueva tarea\n",
      "Jueves       Hacer la compra\n",
      "Viernes          Nueva tarea\n",
      "Sabado               Cocinar\n",
      "Domingo          Nueva tarea\n",
      "dtype: object\n"
     ]
    },
    {
     "name": "stderr",
     "output_type": "stream",
     "text": [
      "C:\\Users\\IPF-2025\\AppData\\Local\\Temp\\ipykernel_12220\\2187288883.py:6: FutureWarning: Series.__getitem__ treating keys as positions is deprecated. In a future version, integer keys will always be treated as labels (consistent with DataFrame behavior). To access a value by position, use `ser.iloc[pos]`\n",
      "  print(serie_tareas_diarias[1])\n",
      "C:\\Users\\IPF-2025\\AppData\\Local\\Temp\\ipykernel_12220\\2187288883.py:7: FutureWarning: Series.__getitem__ treating keys as positions is deprecated. In a future version, integer keys will always be treated as labels (consistent with DataFrame behavior). To access a value by position, use `ser.iloc[pos]`\n",
      "  print(serie_tareas_diarias[3])\n",
      "C:\\Users\\IPF-2025\\AppData\\Local\\Temp\\ipykernel_12220\\2187288883.py:8: FutureWarning: Series.__getitem__ treating keys as positions is deprecated. In a future version, integer keys will always be treated as labels (consistent with DataFrame behavior). To access a value by position, use `ser.iloc[pos]`\n",
      "  print(serie_tareas_diarias[5])\n"
     ]
    }
   ],
   "source": [
    "\n",
    "# todo:\n",
    "#Crea una serie con tareas cotidianas\n",
    "serie_tareas_diarias = Series({\"Lunes\":\"Barrer\",\"Martes\":\"Limpiar el piso\",\"Miercoles\":\"Ordenar la piesa\",\"Jueves\":\"Hacer la compra\",\"Viernes\":\"Lavar la ropa\",\"Sabado\":\"Cocinar\",\"Domingo\":\"Descansar\"})\n",
    "\n",
    "#Accede a diferentes elementos a elección\n",
    "print(serie_tareas_diarias[1])\n",
    "print(serie_tareas_diarias[3])\n",
    "print(serie_tareas_diarias[5])\n",
    "\n",
    "print(f\"\"\"Tareas por defecto: {serie_tareas_diarias}\"\"\")\n",
    "\n",
    "#Accede a los indices pares y modifica sus valores\n",
    "serie_tareas_diarias[::2] = \"Nueva tarea\"\n",
    "print(f\"\"\"Serie de tareas con los valores pares cambiados {serie_tareas_diarias}\"\"\")\n",
    "\n"
   ]
  },
  {
   "cell_type": "markdown",
   "id": "70a24b97",
   "metadata": {},
   "source": [
    "### **Actividad 3:**\n",
    "Operaciones aritméticas. \n",
    "* Realiza las operaciones basicas con 2 series cuales quieran.\n",
    "* Eleva los valores de la primer serie a 3 potencias difetentes."
   ]
  },
  {
   "cell_type": "code",
   "execution_count": 34,
   "id": "a9c8ebc7",
   "metadata": {},
   "outputs": [
    {
     "name": "stdout",
     "output_type": "stream",
     "text": [
      "Series1: \n",
      "0    1\n",
      "1    2\n",
      "2    3\n",
      "3    4\n",
      "4    5\n",
      "dtype: int64\n",
      "Series2: \n",
      "0    10\n",
      "1    20\n",
      "2    30\n",
      "3    40\n",
      "4    50\n",
      "dtype: int64\n"
     ]
    }
   ],
   "source": [
    "# todo:\n",
    "serie_1 = Series([1, 2, 3, 4, 5])\n",
    "serie_2 = Series([10, 20, 30, 40, 50])\n",
    "print(f\"\"\"Series1: \"\"\")\n",
    "print(serie_1)\n",
    "print(f\"\"\"Series2: \"\"\")\n",
    "print(serie_2)\n"
   ]
  },
  {
   "cell_type": "code",
   "execution_count": 35,
   "id": "2031356a",
   "metadata": {},
   "outputs": [
    {
     "name": "stdout",
     "output_type": "stream",
     "text": [
      "Suma de series: \n",
      "0    11\n",
      "1    22\n",
      "2    33\n",
      "3    44\n",
      "4    55\n",
      "dtype: int64\n",
      "Resta entre series: \n",
      "0    -9\n",
      "1   -18\n",
      "2   -27\n",
      "3   -36\n",
      "4   -45\n",
      "dtype: int64\n",
      "Producto de series:\n",
      "0     10\n",
      "1     40\n",
      "2     90\n",
      "3    160\n",
      "4    250\n",
      "dtype: int64\n",
      "División entre series:\n",
      "0    0.1\n",
      "1    0.1\n",
      "2    0.1\n",
      "3    0.1\n",
      "4    0.1\n",
      "dtype: float64\n"
     ]
    }
   ],
   "source": [
    "\n",
    "#Operaciones entre series\n",
    "suma = serie_1 + serie_2\n",
    "resta = serie_1 - serie_2\n",
    "producto = serie_1 * serie_2\n",
    "division = serie_1 / serie_2\n",
    "print(f\"\"\"Suma de series: \"\"\")\n",
    "print(suma)\n",
    "print(f\"\"\"Resta entre series: \"\"\")\n",
    "print(resta)\n",
    "print(f\"\"\"Producto de series:\"\"\")\n",
    "print(producto)\n",
    "print(f\"\"\"División entre series:\"\"\") \n",
    "print(division)\n"
   ]
  },
  {
   "cell_type": "code",
   "execution_count": 36,
   "id": "4e14dfff",
   "metadata": {},
   "outputs": [
    {
     "name": "stdout",
     "output_type": "stream",
     "text": [
      "0      1\n",
      "1      8\n",
      "2     27\n",
      "3     64\n",
      "4    125\n",
      "dtype: int64\n",
      "0       1\n",
      "1      32\n",
      "2     243\n",
      "3    1024\n",
      "4    3125\n",
      "dtype: int64\n",
      "0          1\n",
      "1        512\n",
      "2      19683\n",
      "3     262144\n",
      "4    1953125\n",
      "dtype: int64\n"
     ]
    }
   ],
   "source": [
    "#eleva la primera serie a distintos números\n",
    "print(serie_1 ** 3)\n",
    "print(serie_1 ** 5)\n",
    "print(serie_1 ** 9)"
   ]
  },
  {
   "cell_type": "markdown",
   "id": "b8dac397",
   "metadata": {},
   "source": [
    "### **Actividad 4:** \n",
    "Filtrado con condiciones.\n",
    "* Crea una Series de edades de 10 personas.\n",
    "* Muestra solo a los mayores de 18.\n",
    "* Reemplaza a los menores por \"Menor de edad\"."
   ]
  },
  {
   "cell_type": "code",
   "execution_count": 44,
   "id": "d04fd492",
   "metadata": {},
   "outputs": [
    {
     "name": "stdout",
     "output_type": "stream",
     "text": [
      "Edades por defecto: 0    12\n",
      "1    23\n",
      "2    43\n",
      "3    65\n",
      "4    13\n",
      "5    53\n",
      "6    21\n",
      "7     7\n",
      "8    67\n",
      "9     6\n",
      "dtype: int64\n",
      "Mayores de edad: 1    23\n",
      "2    43\n",
      "3    65\n",
      "5    53\n",
      "6    21\n",
      "8    67\n",
      "dtype: int64\n",
      "Edades con los valores menores a 18 reeplazados: 0    Menor de adad\n",
      "1               23\n",
      "2               43\n",
      "3               65\n",
      "4    Menor de adad\n",
      "5               53\n",
      "6               21\n",
      "7    Menor de adad\n",
      "8               67\n",
      "9    Menor de adad\n",
      "dtype: object\n"
     ]
    },
    {
     "name": "stderr",
     "output_type": "stream",
     "text": [
      "C:\\Users\\IPF-2025\\AppData\\Local\\Temp\\ipykernel_12220\\118290926.py:10: FutureWarning: Setting an item of incompatible dtype is deprecated and will raise an error in a future version of pandas. Value 'Menor de adad' has dtype incompatible with int64, please explicitly cast to a compatible dtype first.\n",
      "  serie_edades[serie_edades < 18] = \"Menor de adad\"\n"
     ]
    }
   ],
   "source": [
    "# todo:\n",
    "serie_edades = Series([12,23,43,65,13,53,21,7,67,6])\n",
    "print(f\"\"\"Edades por defecto: {serie_edades}\"\"\")\n",
    "#Muestra solo las edades mayores de 18\n",
    "\n",
    "mayores = serie_edades[serie_edades > 18]\n",
    "print(f\"\"\"Mayores de edad: {mayores}\"\"\")\n",
    "\n",
    "#\n",
    "serie_edades[serie_edades < 18] = \"Menor de adad\"\n",
    "print(f\"\"\"Edades con los valores menores a 18 reeplazados: {serie_edades}\"\"\")"
   ]
  },
  {
   "cell_type": "markdown",
   "id": "8889d0f2",
   "metadata": {},
   "source": [
    "### Actividad 5:\n",
    "Estadísticas básicas.\n",
    "\n",
    "* Crea una Series con las notas de 10 estudiantes.\n",
    "* Calcula la media, mediana, desviación estándar y máximo.\n",
    "* Muestra cuántos estudiantes aprobaron si el mínimo para aprobar es 6.\n",
    "* Ordenar las notas de manera ascendente y descendente. "
   ]
  },
  {
   "cell_type": "code",
   "execution_count": 58,
   "id": "bc0ec844",
   "metadata": {},
   "outputs": [
    {
     "name": "stdout",
     "output_type": "stream",
     "text": [
      "Media: 5.9\n",
      "Mediana: 5.5\n",
      "Desviación estandar: 2.601281735350223\n",
      "Máximo: 10\n",
      "1     7\n",
      "5     8\n",
      "6     6\n",
      "7    10\n",
      "8     9\n",
      "dtype: int64\n",
      "Notas en orden Ascendente: 3     2\n",
      "4     3\n",
      "2     4\n",
      "0     5\n",
      "9     5\n",
      "6     6\n",
      "1     7\n",
      "5     8\n",
      "8     9\n",
      "7    10\n",
      "dtype: int64\n",
      "Notas en orden Descendente: 7    10\n",
      "8     9\n",
      "5     8\n",
      "1     7\n",
      "6     6\n",
      "0     5\n",
      "9     5\n",
      "2     4\n",
      "4     3\n",
      "3     2\n",
      "dtype: int64\n"
     ]
    }
   ],
   "source": [
    "\n",
    "# todo:\n",
    "#Serie con las notas de 10 alumnos\n",
    "nota_alumnos = Series([5,7,4,2,3,8,6,10,9,5])\n",
    "\n",
    "#Calcula la media, mediana, desviación estándar y máximo.\n",
    "print(f\"\"\"Media: {nota_alumnos.mean()}\"\"\")\n",
    "print(f\"\"\"Mediana: {nota_alumnos.median()}\"\"\")\n",
    "print(f\"\"\"Desviación estandar: {nota_alumnos.std()}\"\"\")\n",
    "print(f\"\"\"Máximo: {nota_alumnos.max()}\"\"\")\n",
    "\n",
    "#Muestra solo los alumnos con notas mayores o iguales a 6\n",
    "alumnos_aprobados = nota_alumnos[nota_alumnos >= 6]\n",
    "print(alumnos_aprobados)\n",
    "\n",
    "#Ordena las notas en orden descendete y ascendente\n",
    "print(f\"\"\"Notas en orden Ascendente: {nota_alumnos.sort_values()}\"\"\")\n",
    "print(f\"\"\"Notas en orden Descendente: {nota_alumnos.sort_values(ascending=False)}\"\"\")"
   ]
  }
 ],
 "metadata": {
  "kernelspec": {
   "display_name": "env",
   "language": "python",
   "name": "python3"
  },
  "language_info": {
   "codemirror_mode": {
    "name": "ipython",
    "version": 3
   },
   "file_extension": ".py",
   "mimetype": "text/x-python",
   "name": "python",
   "nbconvert_exporter": "python",
   "pygments_lexer": "ipython3",
   "version": "3.12.9"
  }
 },
 "nbformat": 4,
 "nbformat_minor": 5
}
